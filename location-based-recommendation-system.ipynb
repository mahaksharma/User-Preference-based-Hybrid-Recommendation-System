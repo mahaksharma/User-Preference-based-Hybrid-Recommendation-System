{
 "cells": [
  {
   "cell_type": "code",
   "execution_count": 1,
   "metadata": {
    "_cell_guid": "5d8e3084-1f07-42dd-9afe-7c8a55ec73bd",
    "_uuid": "71eee586f3f442a91f22ae640e491b80effc4317",
    "collapsed": true
   },
   "outputs": [],
   "source": [
    "# This Python 3 environment comes with many helpful analytics libraries installed\n",
    "# It is defined by the kaggle/python docker image: https://github.com/kaggle/docker-python\n",
    "# For example, here's several helpful packages to load in \n",
    "\n",
    "import numpy as np # linear algebra\n",
    "import pandas as pd # data processing, CSV file I/O (e.g. pd.read_csv)\n",
    "import pytz as tz\n",
    "import matplotlib.pyplot as plt\n",
    "\n",
    "from datetime import datetime\n",
    "from sklearn.cluster import KMeans\n",
    "\n",
    "from sklearn.metrics import silhouette_score"
   ]
  },
  {
   "cell_type": "code",
   "execution_count": 2,
   "metadata": {
    "_cell_guid": "d3016aae-f7c9-4d35-8495-8a386a972f3b",
    "_uuid": "17db850fa4c5242423b3e11a8b8667eb1d29cc88",
    "scrolled": true
   },
   "outputs": [
    {
     "data": {
      "text/html": [
       "<div>\n",
       "<style scoped>\n",
       "    .dataframe tbody tr th:only-of-type {\n",
       "        vertical-align: middle;\n",
       "    }\n",
       "\n",
       "    .dataframe tbody tr th {\n",
       "        vertical-align: top;\n",
       "    }\n",
       "\n",
       "    .dataframe thead th {\n",
       "        text-align: right;\n",
       "    }\n",
       "</style>\n",
       "<table border=\"1\" class=\"dataframe\">\n",
       "  <thead>\n",
       "    <tr style=\"text-align: right;\">\n",
       "      <th></th>\n",
       "      <th>userid</th>\n",
       "      <th>timestamp</th>\n",
       "      <th>latitude</th>\n",
       "      <th>longitude</th>\n",
       "      <th>spotid</th>\n",
       "    </tr>\n",
       "  </thead>\n",
       "  <tbody>\n",
       "    <tr>\n",
       "      <th>0</th>\n",
       "      <td>0</td>\n",
       "      <td>2010-10-19T23:55:27Z</td>\n",
       "      <td>30.235909</td>\n",
       "      <td>-97.795140</td>\n",
       "      <td>22847</td>\n",
       "    </tr>\n",
       "    <tr>\n",
       "      <th>1</th>\n",
       "      <td>0</td>\n",
       "      <td>2010-10-18T22:17:43Z</td>\n",
       "      <td>30.269103</td>\n",
       "      <td>-97.749395</td>\n",
       "      <td>420315</td>\n",
       "    </tr>\n",
       "    <tr>\n",
       "      <th>2</th>\n",
       "      <td>0</td>\n",
       "      <td>2010-10-17T23:42:03Z</td>\n",
       "      <td>30.255731</td>\n",
       "      <td>-97.763386</td>\n",
       "      <td>316637</td>\n",
       "    </tr>\n",
       "    <tr>\n",
       "      <th>3</th>\n",
       "      <td>0</td>\n",
       "      <td>2010-10-17T19:26:05Z</td>\n",
       "      <td>30.263418</td>\n",
       "      <td>-97.757597</td>\n",
       "      <td>16516</td>\n",
       "    </tr>\n",
       "    <tr>\n",
       "      <th>4</th>\n",
       "      <td>0</td>\n",
       "      <td>2010-10-16T18:50:42Z</td>\n",
       "      <td>30.274292</td>\n",
       "      <td>-97.740523</td>\n",
       "      <td>5535878</td>\n",
       "    </tr>\n",
       "  </tbody>\n",
       "</table>\n",
       "</div>"
      ],
      "text/plain": [
       "   userid             timestamp   latitude  longitude   spotid\n",
       "0       0  2010-10-19T23:55:27Z  30.235909 -97.795140    22847\n",
       "1       0  2010-10-18T22:17:43Z  30.269103 -97.749395   420315\n",
       "2       0  2010-10-17T23:42:03Z  30.255731 -97.763386   316637\n",
       "3       0  2010-10-17T19:26:05Z  30.263418 -97.757597    16516\n",
       "4       0  2010-10-16T18:50:42Z  30.274292 -97.740523  5535878"
      ]
     },
     "execution_count": 2,
     "metadata": {},
     "output_type": "execute_result"
    }
   ],
   "source": [
    "df = pd.read_csv('../input/gowalla-checkins/Gowalla_totalCheckins.txt', sep='\\t', header=None)\n",
    "df.columns = ['userid','timestamp','latitude','longitude','spotid']\n",
    "df.head()"
   ]
  },
  {
   "cell_type": "markdown",
   "metadata": {
    "_cell_guid": "d3066e3f-83c1-4228-b94a-ba3a118d5125",
    "_uuid": "9cc603ba7a5af967b849d05c3ac42c34907820ba"
   },
   "source": [
    "Let's filter the dataset to the area of New York City.\n",
    "\n",
    "The Flickr Geo API provides us with the bounding box of the city.\n",
    "[https://www.flickr.com/places/info/2459115](http://)"
   ]
  },
  {
   "cell_type": "code",
   "execution_count": 3,
   "metadata": {
    "_cell_guid": "26c9e0a6-ced3-44bc-9dcf-469233bcd704",
    "_uuid": "d400b414fd5bee414716b9d187dc8df66aff4f72"
   },
   "outputs": [
    {
     "data": {
      "text/html": [
       "<div>\n",
       "<style scoped>\n",
       "    .dataframe tbody tr th:only-of-type {\n",
       "        vertical-align: middle;\n",
       "    }\n",
       "\n",
       "    .dataframe tbody tr th {\n",
       "        vertical-align: top;\n",
       "    }\n",
       "\n",
       "    .dataframe thead th {\n",
       "        text-align: right;\n",
       "    }\n",
       "</style>\n",
       "<table border=\"1\" class=\"dataframe\">\n",
       "  <thead>\n",
       "    <tr style=\"text-align: right;\">\n",
       "      <th></th>\n",
       "      <th>userid</th>\n",
       "      <th>timestamp</th>\n",
       "      <th>latitude</th>\n",
       "      <th>longitude</th>\n",
       "      <th>spotid</th>\n",
       "    </tr>\n",
       "  </thead>\n",
       "  <tbody>\n",
       "    <tr>\n",
       "      <th>10</th>\n",
       "      <td>0</td>\n",
       "      <td>2010-10-12T00:21:28Z</td>\n",
       "      <td>40.643885</td>\n",
       "      <td>-73.782806</td>\n",
       "      <td>23261</td>\n",
       "    </tr>\n",
       "    <tr>\n",
       "      <th>11</th>\n",
       "      <td>0</td>\n",
       "      <td>2010-10-11T20:21:20Z</td>\n",
       "      <td>40.741374</td>\n",
       "      <td>-73.988105</td>\n",
       "      <td>16907</td>\n",
       "    </tr>\n",
       "    <tr>\n",
       "      <th>12</th>\n",
       "      <td>0</td>\n",
       "      <td>2010-10-11T20:20:42Z</td>\n",
       "      <td>40.741388</td>\n",
       "      <td>-73.989455</td>\n",
       "      <td>12973</td>\n",
       "    </tr>\n",
       "    <tr>\n",
       "      <th>13</th>\n",
       "      <td>0</td>\n",
       "      <td>2010-10-11T00:06:30Z</td>\n",
       "      <td>40.724910</td>\n",
       "      <td>-73.994621</td>\n",
       "      <td>341255</td>\n",
       "    </tr>\n",
       "    <tr>\n",
       "      <th>14</th>\n",
       "      <td>0</td>\n",
       "      <td>2010-10-10T22:00:37Z</td>\n",
       "      <td>40.729768</td>\n",
       "      <td>-73.998535</td>\n",
       "      <td>260957</td>\n",
       "    </tr>\n",
       "  </tbody>\n",
       "</table>\n",
       "</div>"
      ],
      "text/plain": [
       "    userid             timestamp   latitude  longitude  spotid\n",
       "10       0  2010-10-12T00:21:28Z  40.643885 -73.782806   23261\n",
       "11       0  2010-10-11T20:21:20Z  40.741374 -73.988105   16907\n",
       "12       0  2010-10-11T20:20:42Z  40.741388 -73.989455   12973\n",
       "13       0  2010-10-11T00:06:30Z  40.724910 -73.994621  341255\n",
       "14       0  2010-10-10T22:00:37Z  40.729768 -73.998535  260957"
      ]
     },
     "execution_count": 3,
     "metadata": {},
     "output_type": "execute_result"
    }
   ],
   "source": [
    "lon_min, lat_min, lon_max, lat_max = -74.2589, 40.4774, -73.7004, 40.9176\n",
    "nyc_events = df[(df['longitude']>lon_min) & \n",
    "           (df['longitude']<lon_max) & \n",
    "           (df['latitude']>lat_min) & \n",
    "           (df['latitude']<lat_max)]\n",
    "nyc_events.head()"
   ]
  },
  {
   "cell_type": "code",
   "execution_count": 4,
   "metadata": {
    "_cell_guid": "e0ec2ec5-6ebe-4c98-886f-8bc42932572b",
    "_uuid": "cb16a6982118f456f8b0f5865695633e4d93c8d0"
   },
   "outputs": [
    {
     "data": {
      "text/plain": [
       "(138957, 5)"
      ]
     },
     "execution_count": 4,
     "metadata": {},
     "output_type": "execute_result"
    }
   ],
   "source": [
    "nyc_events.shape"
   ]
  },
  {
   "cell_type": "markdown",
   "metadata": {
    "_cell_guid": "f946bac9-7e68-4627-9636-88055ab526af",
    "_uuid": "26fb4990de71cffa1f4dc4fd75151f78fabf9ed6"
   },
   "source": [
    "Let's import the Venues Data"
   ]
  },
  {
   "cell_type": "code",
   "execution_count": 5,
   "metadata": {
    "_cell_guid": "273f0d18-e8cf-4969-a1ac-3b31002e412a",
    "_uuid": "2b46c6a6d949500407d68dd61017ac4a5468e4a4"
   },
   "outputs": [
    {
     "data": {
      "text/html": [
       "<div>\n",
       "<style scoped>\n",
       "    .dataframe tbody tr th:only-of-type {\n",
       "        vertical-align: middle;\n",
       "    }\n",
       "\n",
       "    .dataframe tbody tr th {\n",
       "        vertical-align: top;\n",
       "    }\n",
       "\n",
       "    .dataframe thead th {\n",
       "        text-align: right;\n",
       "    }\n",
       "</style>\n",
       "<table border=\"1\" class=\"dataframe\">\n",
       "  <thead>\n",
       "    <tr style=\"text-align: right;\">\n",
       "      <th></th>\n",
       "      <th>spotid</th>\n",
       "      <th>spotname</th>\n",
       "      <th>geo-coordinates</th>\n",
       "    </tr>\n",
       "  </thead>\n",
       "  <tbody>\n",
       "    <tr>\n",
       "      <th>0</th>\n",
       "      <td>1391604</td>\n",
       "      <td>Conference House Park</td>\n",
       "      <td>POINT(-74.2523431778 40.5017589436)</td>\n",
       "    </tr>\n",
       "    <tr>\n",
       "      <th>1</th>\n",
       "      <td>1391611</td>\n",
       "      <td>Almer G. Russell Pavilion</td>\n",
       "      <td>POINT(-74.2542636395 40.5022647413)</td>\n",
       "    </tr>\n",
       "    <tr>\n",
       "      <th>2</th>\n",
       "      <td>3612422</td>\n",
       "      <td>Conference House</td>\n",
       "      <td>POINT(-74.2490418254 40.5000644614)</td>\n",
       "    </tr>\n",
       "    <tr>\n",
       "      <th>3</th>\n",
       "      <td>3612431</td>\n",
       "      <td>Billop House</td>\n",
       "      <td>POINT(-74.2490418254 40.5000644614)</td>\n",
       "    </tr>\n",
       "    <tr>\n",
       "      <th>4</th>\n",
       "      <td>1391499</td>\n",
       "      <td>Biddle House</td>\n",
       "      <td>POINT(-74.2541456223 40.5054829933)</td>\n",
       "    </tr>\n",
       "  </tbody>\n",
       "</table>\n",
       "</div>"
      ],
      "text/plain": [
       "    spotid                   spotname                      geo-coordinates\n",
       "0  1391604      Conference House Park  POINT(-74.2523431778 40.5017589436)\n",
       "1  1391611  Almer G. Russell Pavilion  POINT(-74.2542636395 40.5022647413)\n",
       "2  3612422           Conference House  POINT(-74.2490418254 40.5000644614)\n",
       "3  3612431               Billop House  POINT(-74.2490418254 40.5000644614)\n",
       "4  1391499               Biddle House  POINT(-74.2541456223 40.5054829933)"
      ]
     },
     "execution_count": 5,
     "metadata": {},
     "output_type": "execute_result"
    }
   ],
   "source": [
    "venues = pd.read_csv('../input/venues-in-new-york-city/spots.txt', sep='\\t', header=0)\n",
    "venues.head()"
   ]
  },
  {
   "cell_type": "markdown",
   "metadata": {
    "_cell_guid": "75d6c1f1-6398-4ad3-9ec3-5fe4a809efea",
    "_uuid": "bf4ff66f4ba09d0ec971eb01aeda13482c41aac3"
   },
   "source": [
    "UTC to New York Time Zone Conversion"
   ]
  },
  {
   "cell_type": "code",
   "execution_count": 6,
   "metadata": {
    "_cell_guid": "738a27d5-b151-4fd7-926f-862df65af7c9",
    "_uuid": "f86eab7506cdea381b634775f7e2eccc07922b7d",
    "collapsed": true
   },
   "outputs": [],
   "source": [
    "def parse_datetime(s):\n",
    "    tzone = tz.timezone(\"America/New_York\") #parse_datetime\n",
    "    utc = datetime.strptime(s, '%Y-%m-%dT%H:%M:%SZ')\n",
    "    return tz.utc.localize(utc).astimezone(tzone)"
   ]
  },
  {
   "cell_type": "markdown",
   "metadata": {
    "_cell_guid": "7fa445f3-5bd0-4130-ab6b-7309bd487e96",
    "_uuid": "73ae3fce9f7b0092bc7ae0ddd059b0ca0ee62be8"
   },
   "source": [
    "Feature Engineering"
   ]
  },
  {
   "cell_type": "code",
   "execution_count": 7,
   "metadata": {
    "_cell_guid": "3d8912e7-efa4-4171-a3d2-0db9e79e911b",
    "_uuid": "775fda7b21623710a499f4b3ff709d1b940c05b1"
   },
   "outputs": [
    {
     "name": "stderr",
     "output_type": "stream",
     "text": [
      "/opt/conda/lib/python3.6/site-packages/ipykernel_launcher.py:1: SettingWithCopyWarning: \n",
      "A value is trying to be set on a copy of a slice from a DataFrame.\n",
      "Try using .loc[row_indexer,col_indexer] = value instead\n",
      "\n",
      "See the caveats in the documentation: http://pandas.pydata.org/pandas-docs/stable/indexing.html#indexing-view-versus-copy\n",
      "  \"\"\"Entry point for launching an IPython kernel.\n"
     ]
    },
    {
     "data": {
      "text/html": [
       "<div>\n",
       "<style scoped>\n",
       "    .dataframe tbody tr th:only-of-type {\n",
       "        vertical-align: middle;\n",
       "    }\n",
       "\n",
       "    .dataframe tbody tr th {\n",
       "        vertical-align: top;\n",
       "    }\n",
       "\n",
       "    .dataframe thead th {\n",
       "        text-align: right;\n",
       "    }\n",
       "</style>\n",
       "<table border=\"1\" class=\"dataframe\">\n",
       "  <thead>\n",
       "    <tr style=\"text-align: right;\">\n",
       "      <th></th>\n",
       "      <th>ts</th>\n",
       "      <th>date</th>\n",
       "      <th>time</th>\n",
       "      <th>weekday</th>\n",
       "      <th>day</th>\n",
       "      <th>hour</th>\n",
       "    </tr>\n",
       "  </thead>\n",
       "  <tbody>\n",
       "    <tr>\n",
       "      <th>10</th>\n",
       "      <td>2010-10-11 20:21:28-04:00</td>\n",
       "      <td>2010-10-11</td>\n",
       "      <td>20:21:28</td>\n",
       "      <td>0</td>\n",
       "      <td>11</td>\n",
       "      <td>20</td>\n",
       "    </tr>\n",
       "    <tr>\n",
       "      <th>11</th>\n",
       "      <td>2010-10-11 16:21:20-04:00</td>\n",
       "      <td>2010-10-11</td>\n",
       "      <td>16:21:20</td>\n",
       "      <td>0</td>\n",
       "      <td>11</td>\n",
       "      <td>16</td>\n",
       "    </tr>\n",
       "    <tr>\n",
       "      <th>12</th>\n",
       "      <td>2010-10-11 16:20:42-04:00</td>\n",
       "      <td>2010-10-11</td>\n",
       "      <td>16:20:42</td>\n",
       "      <td>0</td>\n",
       "      <td>11</td>\n",
       "      <td>16</td>\n",
       "    </tr>\n",
       "    <tr>\n",
       "      <th>13</th>\n",
       "      <td>2010-10-10 20:06:30-04:00</td>\n",
       "      <td>2010-10-10</td>\n",
       "      <td>20:06:30</td>\n",
       "      <td>6</td>\n",
       "      <td>10</td>\n",
       "      <td>20</td>\n",
       "    </tr>\n",
       "    <tr>\n",
       "      <th>14</th>\n",
       "      <td>2010-10-10 18:00:37-04:00</td>\n",
       "      <td>2010-10-10</td>\n",
       "      <td>18:00:37</td>\n",
       "      <td>6</td>\n",
       "      <td>10</td>\n",
       "      <td>18</td>\n",
       "    </tr>\n",
       "  </tbody>\n",
       "</table>\n",
       "</div>"
      ],
      "text/plain": [
       "                          ts        date      time  weekday  day  hour\n",
       "10 2010-10-11 20:21:28-04:00  2010-10-11  20:21:28        0   11    20\n",
       "11 2010-10-11 16:21:20-04:00  2010-10-11  16:21:20        0   11    16\n",
       "12 2010-10-11 16:20:42-04:00  2010-10-11  16:20:42        0   11    16\n",
       "13 2010-10-10 20:06:30-04:00  2010-10-10  20:06:30        6   10    20\n",
       "14 2010-10-10 18:00:37-04:00  2010-10-10  18:00:37        6   10    18"
      ]
     },
     "execution_count": 7,
     "metadata": {},
     "output_type": "execute_result"
    }
   ],
   "source": [
    "nyc_events['ts'] = nyc_events['timestamp'].apply(lambda x: parse_datetime(x))\n",
    "nyc_events = nyc_events.drop('timestamp',axis=1,errors='ignore')\n",
    "\n",
    "#local date and time\n",
    "nyc_events['date']  = nyc_events['ts'].astype(object).apply(lambda x : x.date())\n",
    "nyc_events['time']  = nyc_events['ts'].astype(object).apply(lambda x : x.time())\n",
    "\n",
    "#day of the week (localtime)\n",
    "#hour of the day (localtime)\n",
    "nyc_events['weekday']  = nyc_events['date'].astype(object).apply(lambda x : x.weekday())\n",
    "nyc_events['day']   = nyc_events['date'].astype(object).apply(lambda x : x.day)\n",
    "nyc_events['hour']   = nyc_events['time'].astype(object).apply(lambda x : x.hour)\n",
    "\n",
    "nyc_events[['ts','date','time','weekday','day','hour']][0:5]"
   ]
  },
  {
   "cell_type": "markdown",
   "metadata": {
    "_cell_guid": "9aeabed1-a8c3-4f82-9fb0-2abf77ef216d",
    "_uuid": "90d7466616ef047d17a762deff9309995763e2bb"
   },
   "source": [
    "Combining Events and Venue Data"
   ]
  },
  {
   "cell_type": "code",
   "execution_count": 8,
   "metadata": {
    "_cell_guid": "9dd23bc5-fc5b-46a9-bf7b-3f7fd545b5d9",
    "_uuid": "871a6544fd72e91957f4abba6cb2aeb371423470"
   },
   "outputs": [
    {
     "data": {
      "text/html": [
       "<div>\n",
       "<style scoped>\n",
       "    .dataframe tbody tr th:only-of-type {\n",
       "        vertical-align: middle;\n",
       "    }\n",
       "\n",
       "    .dataframe tbody tr th {\n",
       "        vertical-align: top;\n",
       "    }\n",
       "\n",
       "    .dataframe thead th {\n",
       "        text-align: right;\n",
       "    }\n",
       "</style>\n",
       "<table border=\"1\" class=\"dataframe\">\n",
       "  <thead>\n",
       "    <tr style=\"text-align: right;\">\n",
       "      <th></th>\n",
       "      <th>userid</th>\n",
       "      <th>latitude</th>\n",
       "      <th>longitude</th>\n",
       "      <th>spotid</th>\n",
       "      <th>ts</th>\n",
       "      <th>date</th>\n",
       "      <th>time</th>\n",
       "      <th>weekday</th>\n",
       "      <th>day</th>\n",
       "      <th>hour</th>\n",
       "      <th>spotname</th>\n",
       "    </tr>\n",
       "  </thead>\n",
       "  <tbody>\n",
       "    <tr>\n",
       "      <th>0</th>\n",
       "      <td>0</td>\n",
       "      <td>40.643885</td>\n",
       "      <td>-73.782806</td>\n",
       "      <td>23261</td>\n",
       "      <td>2010-10-11 20:21:28-04:00</td>\n",
       "      <td>2010-10-11</td>\n",
       "      <td>20:21:28</td>\n",
       "      <td>0</td>\n",
       "      <td>11</td>\n",
       "      <td>20</td>\n",
       "      <td>JFK John F. Kennedy International</td>\n",
       "    </tr>\n",
       "    <tr>\n",
       "      <th>1</th>\n",
       "      <td>0</td>\n",
       "      <td>40.643885</td>\n",
       "      <td>-73.782806</td>\n",
       "      <td>23261</td>\n",
       "      <td>2010-10-07 11:27:40-04:00</td>\n",
       "      <td>2010-10-07</td>\n",
       "      <td>11:27:40</td>\n",
       "      <td>3</td>\n",
       "      <td>7</td>\n",
       "      <td>11</td>\n",
       "      <td>JFK John F. Kennedy International</td>\n",
       "    </tr>\n",
       "    <tr>\n",
       "      <th>2</th>\n",
       "      <td>5</td>\n",
       "      <td>40.643885</td>\n",
       "      <td>-73.782806</td>\n",
       "      <td>23261</td>\n",
       "      <td>2010-08-15 23:47:20-04:00</td>\n",
       "      <td>2010-08-15</td>\n",
       "      <td>23:47:20</td>\n",
       "      <td>6</td>\n",
       "      <td>15</td>\n",
       "      <td>23</td>\n",
       "      <td>JFK John F. Kennedy International</td>\n",
       "    </tr>\n",
       "    <tr>\n",
       "      <th>3</th>\n",
       "      <td>8</td>\n",
       "      <td>40.643885</td>\n",
       "      <td>-73.782806</td>\n",
       "      <td>23261</td>\n",
       "      <td>2010-10-06 16:23:14-04:00</td>\n",
       "      <td>2010-10-06</td>\n",
       "      <td>16:23:14</td>\n",
       "      <td>2</td>\n",
       "      <td>6</td>\n",
       "      <td>16</td>\n",
       "      <td>JFK John F. Kennedy International</td>\n",
       "    </tr>\n",
       "    <tr>\n",
       "      <th>4</th>\n",
       "      <td>15</td>\n",
       "      <td>40.643885</td>\n",
       "      <td>-73.782806</td>\n",
       "      <td>23261</td>\n",
       "      <td>2010-10-13 00:10:36-04:00</td>\n",
       "      <td>2010-10-13</td>\n",
       "      <td>00:10:36</td>\n",
       "      <td>2</td>\n",
       "      <td>13</td>\n",
       "      <td>0</td>\n",
       "      <td>JFK John F. Kennedy International</td>\n",
       "    </tr>\n",
       "  </tbody>\n",
       "</table>\n",
       "</div>"
      ],
      "text/plain": [
       "   userid   latitude  longitude  spotid                        ts        date  \\\n",
       "0       0  40.643885 -73.782806   23261 2010-10-11 20:21:28-04:00  2010-10-11   \n",
       "1       0  40.643885 -73.782806   23261 2010-10-07 11:27:40-04:00  2010-10-07   \n",
       "2       5  40.643885 -73.782806   23261 2010-08-15 23:47:20-04:00  2010-08-15   \n",
       "3       8  40.643885 -73.782806   23261 2010-10-06 16:23:14-04:00  2010-10-06   \n",
       "4      15  40.643885 -73.782806   23261 2010-10-13 00:10:36-04:00  2010-10-13   \n",
       "\n",
       "       time  weekday  day  hour                           spotname  \n",
       "0  20:21:28        0   11    20  JFK John F. Kennedy International  \n",
       "1  11:27:40        3    7    11  JFK John F. Kennedy International  \n",
       "2  23:47:20        6   15    23  JFK John F. Kennedy International  \n",
       "3  16:23:14        2    6    16  JFK John F. Kennedy International  \n",
       "4  00:10:36        2   13     0  JFK John F. Kennedy International  "
      ]
     },
     "execution_count": 8,
     "metadata": {},
     "output_type": "execute_result"
    }
   ],
   "source": [
    "nyc_events = pd.DataFrame.merge(nyc_events, venues[['spotid','spotname']], on='spotid', how=\"inner\")\n",
    "nyc_events.head()"
   ]
  },
  {
   "cell_type": "markdown",
   "metadata": {
    "_cell_guid": "49b494d3-6040-4555-afac-110f5e2cd282",
    "_uuid": "4284df5985129351a7e4b5a1d1387addd88bd2bc"
   },
   "source": [
    "**Visual Exploratory Data Analysis**"
   ]
  },
  {
   "cell_type": "markdown",
   "metadata": {
    "_cell_guid": "0d3d7cc3-5b52-4c49-b1dc-9bf3c945b2a7",
    "_uuid": "0e0b2274816a19a72240aaf8c6611af0cbe28674"
   },
   "source": [
    "Popularity of the Gowalla Application"
   ]
  },
  {
   "cell_type": "code",
   "execution_count": 9,
   "metadata": {
    "_cell_guid": "402f5617-8669-45a5-91d9-b46aaa18e40c",
    "_uuid": "4aaa7416a95de0ed75f3414dba4ea83128947915"
   },
   "outputs": [
    {
     "data": {
      "image/png": "[encoded data removed]",
      "text/plain": [
       "<matplotlib.figure.Figure at 0x7f86476e4588>"
      ]
     },
     "metadata": {},
     "output_type": "display_data"
    }
   ],
   "source": [
    "# Let us plot the events registered, ordered temporally by increasing timestamps and grouped by date\n",
    "plt.rcParams['figure.figsize'] = (20.0, 20.0)\n",
    "plt.rcParams.update({'font.size': 12})\n",
    "plt.rcParams['xtick.major.pad']='5'\n",
    "plt.rcParams['ytick.major.pad']='5'\n",
    "plt.style.use('ggplot')\n",
    "\n",
    "plt.subplot(4, 1, 1)\n",
    "top = nyc_events.groupby('date').size()\n",
    "plt.plot(top.index, top, 'g-')\n",
    "plt.title('Gowalla App usage over time')\n",
    "plt.show()"
   ]
  },
  {
   "cell_type": "markdown",
   "metadata": {
    "_cell_guid": "fa0f0fea-f3a7-41ba-81ff-768804020db8",
    "_uuid": "931b9f93e54346186c5cd29bb9ebf10c8507147f"
   },
   "source": [
    "What is the distribution of events per hour of the day, per day of the week, per day of the month?"
   ]
  },
  {
   "cell_type": "code",
   "execution_count": 10,
   "metadata": {
    "_cell_guid": "91282208-5821-477d-9c7a-7d28a362ebe9",
    "_uuid": "42020bf0430c46f084d5a690d1ae0957b9183bec"
   },
   "outputs": [
    {
     "data": {
      "image/png": "[encoded data removed]",
      "text/plain": [
       "<matplotlib.figure.Figure at 0x7f85e3a330b8>"
      ]
     },
     "metadata": {},
     "output_type": "display_data"
    }
   ],
   "source": [
    "plt.style.use('ggplot')\n",
    "fig = plt.figure()\n",
    "fig.set_size_inches(21,4)\n",
    "\n",
    "plt.subplot(1, 3, 1)\n",
    "top = nyc_events.groupby('hour').size()\n",
    "plt.bar(top.index, top,align='center', color='red')\n",
    "plt.title('Check-ins: Hour of the day')\n",
    "\n",
    "plt.subplot(1, 3, 2)\n",
    "top = nyc_events.groupby('weekday').size()\n",
    "plt.bar(top.index, top,align='center',color='blue')\n",
    "plt.title('Check-ins: Day of the week')\n",
    "\n",
    "plt.subplot(1, 3, 3)\n",
    "top = nyc_events.groupby('day').size()\n",
    "plt.bar(top.index, top,align='center',color='green')\n",
    "plt.title('Check-ins: Day of the month')\n",
    "\n",
    "plt.show()"
   ]
  },
  {
   "cell_type": "markdown",
   "metadata": {
    "_cell_guid": "18fbf451-7621-461a-9e32-b6c868aca53c",
    "_uuid": "f0a4dc52829e14349b71ff5aaf51289eac1e850b"
   },
   "source": [
    "Finding clusters in the NYC events data set"
   ]
  },
  {
   "cell_type": "code",
   "execution_count": 11,
   "metadata": {
    "_cell_guid": "cd19098f-3981-45d7-acee-437d946755c9",
    "_uuid": "c4c0d9c92ede07a446aef51742019222c642fb42"
   },
   "outputs": [
    {
     "name": "stdout",
     "output_type": "stream",
     "text": [
      "k = 240  silhouette_score  0.471607300065\n"
     ]
    }
   ],
   "source": [
    "#for k in range(200, 270, 10):\n",
    "    #kmeans = KMeans(n_clusters=k, init='k-means++')\n",
    "    #X_sample = (nyc_events[['longitude','latitude']].sample(frac=0.1))\n",
    "    #kmeans.fit(X_sample)\n",
    "    #y = kmeans.labels_\n",
    "    #print(\"k =\", k, \" silhouette_score \", silhouette_score(X_sample, y, metric='euclidean'))\n",
    "\n",
    "# Rule of thumb for k: sqrt(n/2); here n is 112390 - total no. of NYC events\n",
    "kmeans = KMeans(n_clusters=240, init='k-means++')\n",
    "\n",
    "# Compute the clusters based on longitude and latitude features\n",
    "X_sample = nyc_events[['longitude','latitude']].sample(frac=0.1)\n",
    "kmeans.fit(X_sample)\n",
    "y = kmeans.labels_\n",
    "print(\"k = 240\", \" silhouette_score \", silhouette_score(X_sample, y, metric='euclidean'))"
   ]
  },
  {
   "cell_type": "markdown",
   "metadata": {
    "_cell_guid": "b68da078-3681-4e00-9374-56ecf3003cae",
    "_uuid": "84c0323b1db5e5439f200cffaff96c64f1ef8954"
   },
   "source": [
    "Predicting and associating clusters for all the events in NYC"
   ]
  },
  {
   "cell_type": "code",
   "execution_count": 12,
   "metadata": {
    "_cell_guid": "8c45b1b0-2b44-4d1a-86ba-fb599899f6bd",
    "_uuid": "11312c4b30accac140f900334afc74ba7f9a7f7b"
   },
   "outputs": [
    {
     "data": {
      "text/html": [
       "<div>\n",
       "<style scoped>\n",
       "    .dataframe tbody tr th:only-of-type {\n",
       "        vertical-align: middle;\n",
       "    }\n",
       "\n",
       "    .dataframe tbody tr th {\n",
       "        vertical-align: top;\n",
       "    }\n",
       "\n",
       "    .dataframe thead th {\n",
       "        text-align: right;\n",
       "    }\n",
       "</style>\n",
       "<table border=\"1\" class=\"dataframe\">\n",
       "  <thead>\n",
       "    <tr style=\"text-align: right;\">\n",
       "      <th></th>\n",
       "      <th>userid</th>\n",
       "      <th>latitude</th>\n",
       "      <th>longitude</th>\n",
       "      <th>spotid</th>\n",
       "      <th>cluster</th>\n",
       "    </tr>\n",
       "  </thead>\n",
       "  <tbody>\n",
       "    <tr>\n",
       "      <th>36179</th>\n",
       "      <td>35191</td>\n",
       "      <td>40.736812</td>\n",
       "      <td>-73.989476</td>\n",
       "      <td>78865</td>\n",
       "      <td>62</td>\n",
       "    </tr>\n",
       "    <tr>\n",
       "      <th>90729</th>\n",
       "      <td>15491</td>\n",
       "      <td>40.719694</td>\n",
       "      <td>-74.005851</td>\n",
       "      <td>59030</td>\n",
       "      <td>100</td>\n",
       "    </tr>\n",
       "    <tr>\n",
       "      <th>94458</th>\n",
       "      <td>118025</td>\n",
       "      <td>40.734540</td>\n",
       "      <td>-74.000649</td>\n",
       "      <td>1009608</td>\n",
       "      <td>175</td>\n",
       "    </tr>\n",
       "    <tr>\n",
       "      <th>67975</th>\n",
       "      <td>1810</td>\n",
       "      <td>40.771101</td>\n",
       "      <td>-73.985281</td>\n",
       "      <td>448256</td>\n",
       "      <td>58</td>\n",
       "    </tr>\n",
       "    <tr>\n",
       "      <th>82179</th>\n",
       "      <td>4604</td>\n",
       "      <td>40.744687</td>\n",
       "      <td>-73.977385</td>\n",
       "      <td>220590</td>\n",
       "      <td>97</td>\n",
       "    </tr>\n",
       "    <tr>\n",
       "      <th>73933</th>\n",
       "      <td>1940</td>\n",
       "      <td>40.756061</td>\n",
       "      <td>-73.966859</td>\n",
       "      <td>1110705</td>\n",
       "      <td>128</td>\n",
       "    </tr>\n",
       "    <tr>\n",
       "      <th>68585</th>\n",
       "      <td>39961</td>\n",
       "      <td>40.715605</td>\n",
       "      <td>-73.938282</td>\n",
       "      <td>200633</td>\n",
       "      <td>75</td>\n",
       "    </tr>\n",
       "    <tr>\n",
       "      <th>74081</th>\n",
       "      <td>123377</td>\n",
       "      <td>40.808588</td>\n",
       "      <td>-73.962536</td>\n",
       "      <td>422205</td>\n",
       "      <td>105</td>\n",
       "    </tr>\n",
       "    <tr>\n",
       "      <th>55287</th>\n",
       "      <td>1594</td>\n",
       "      <td>40.768085</td>\n",
       "      <td>-73.981240</td>\n",
       "      <td>314835</td>\n",
       "      <td>229</td>\n",
       "    </tr>\n",
       "    <tr>\n",
       "      <th>44201</th>\n",
       "      <td>5862</td>\n",
       "      <td>40.738429</td>\n",
       "      <td>-73.991355</td>\n",
       "      <td>99299</td>\n",
       "      <td>212</td>\n",
       "    </tr>\n",
       "  </tbody>\n",
       "</table>\n",
       "</div>"
      ],
      "text/plain": [
       "       userid   latitude  longitude   spotid  cluster\n",
       "36179   35191  40.736812 -73.989476    78865       62\n",
       "90729   15491  40.719694 -74.005851    59030      100\n",
       "94458  118025  40.734540 -74.000649  1009608      175\n",
       "67975    1810  40.771101 -73.985281   448256       58\n",
       "82179    4604  40.744687 -73.977385   220590       97\n",
       "73933    1940  40.756061 -73.966859  1110705      128\n",
       "68585   39961  40.715605 -73.938282   200633       75\n",
       "74081  123377  40.808588 -73.962536   422205      105\n",
       "55287    1594  40.768085 -73.981240   314835      229\n",
       "44201    5862  40.738429 -73.991355    99299      212"
      ]
     },
     "execution_count": 12,
     "metadata": {},
     "output_type": "execute_result"
    }
   ],
   "source": [
    "nyc_events['cluster'] = kmeans.predict(nyc_events[['longitude','latitude']])\n",
    "nyc_events[['userid','latitude','longitude','spotid','cluster']].sample(10)"
   ]
  },
  {
   "cell_type": "markdown",
   "metadata": {
    "_cell_guid": "45091519-b19a-4143-977f-916092fbd014",
    "_uuid": "d95c7ff43e55098987e08c8c85e3247061850d33"
   },
   "source": [
    "Top Visited Venues based on Count"
   ]
  },
  {
   "cell_type": "code",
   "execution_count": 13,
   "metadata": {
    "_cell_guid": "99dfb714-3621-4c25-8ba2-0eef68fb8806",
    "_uuid": "35f5c1b72d76d80468bf21028c90590ad2c1c830",
    "collapsed": true
   },
   "outputs": [],
   "source": [
    "gdf = nyc_events.groupby(['cluster', 'spotid']).size().reset_index()\n",
    "gdf.columns = ['cluster', 'spotid', 'count']\n",
    "idx = gdf.groupby(['cluster'])['count'].transform(max) == gdf['count']\n",
    "topvenues_df = gdf[idx].merge(venues, on='spotid', how='left').sort_values(by='count', ascending=False)\n",
    "#top 10 out of 200 clusters by events count\n",
    "topvenues = topvenues_df[:10]"
   ]
  },
  {
   "cell_type": "code",
   "execution_count": 14,
   "metadata": {
    "_cell_guid": "4ae1bf9f-8b35-4111-806e-f0dbda056f0d",
    "_uuid": "863e1e5c46fee4aed3bc5ab2ffcd52ba76312ad1"
   },
   "outputs": [
    {
     "data": {
      "image/png": "[encoded data removed]",
      "text/plain": [
       "<matplotlib.figure.Figure at 0x7f85e2187a90>"
      ]
     },
     "metadata": {},
     "output_type": "display_data"
    }
   ],
   "source": [
    "# Most Visited Venues\n",
    "plt.style.use('ggplot')\n",
    "fig = plt.figure()\n",
    "fig.set_size_inches(21,5)\n",
    "\n",
    "plt.bar(range(len(topvenues)), topvenues['count'], align='center')\n",
    "plt.xticks(range(len(topvenues)),topvenues['spotname'], rotation='vertical')\n",
    "plt.title('Most visited venues')\n",
    "plt.show()"
   ]
  },
  {
   "cell_type": "code",
   "execution_count": 15,
   "metadata": {
    "_cell_guid": "bb2993d5-982e-4180-8a1f-ff2a3264469e",
    "_uuid": "0afc5619642dd9dd698e9eb2d394f619f440fdb0",
    "collapsed": true
   },
   "outputs": [],
   "source": [
    "def recommend_venues(df, longitude, latitude):\n",
    "    predicted_cluster = kmeans.predict(np.array([longitude,latitude]).reshape(1,-1))[0]\n",
    "    # Fetch the venue name of the top most record in the topvenues dataframe for the predicted cluster\n",
    "    venue_name = df[df['cluster']==predicted_cluster].iloc[0]['spotname']\n",
    "    msg = 'What about visiting the ' + venue_name + '?'\n",
    "    return msg"
   ]
  },
  {
   "cell_type": "markdown",
   "metadata": {
    "_cell_guid": "d20d2a2e-7e28-4381-8ca3-d1881d734b7b",
    "_uuid": "a381ff157dcaaa3f629f575127c2aa1b78054b22"
   },
   "source": [
    "Make predictions"
   ]
  },
  {
   "cell_type": "code",
   "execution_count": 16,
   "metadata": {
    "_cell_guid": "fd5af8eb-29e5-40b7-951a-5ef614572129",
    "_uuid": "4ee0c47761de1df91c3504230d5f15625d61701f"
   },
   "outputs": [
    {
     "data": {
      "text/plain": [
       "'What about visiting the Coney Island Boardwalk?'"
      ]
     },
     "execution_count": 16,
     "metadata": {},
     "output_type": "execute_result"
    }
   ],
   "source": [
    "recommend_venues(topvenues_df, -74, 40.55)"
   ]
  },
  {
   "cell_type": "code",
   "execution_count": 17,
   "metadata": {
    "_cell_guid": "a2aaeda2-6d9f-4bdb-97dc-50e8df9a2212",
    "_uuid": "df1f813ad1f943f867464244f17fb08e5ba27958",
    "collapsed": true
   },
   "outputs": [
    {
     "data": {
      "text/plain": [
       "'What about visiting the Madison Square Garden?'"
      ]
     },
     "execution_count": 17,
     "metadata": {},
     "output_type": "execute_result"
    }
   ],
   "source": [
    "recommend_venues(topvenues_df, -73.993, 40.75)"
   ]
  }
 ],
 "metadata": {
  "kernelspec": {
   "display_name": "Python 3",
   "language": "python",
   "name": "python3"
  },
  "language_info": {
   "codemirror_mode": {
    "name": "ipython",
    "version": 3
   },
   "file_extension": ".py",
   "mimetype": "text/x-python",
   "name": "python",
   "nbconvert_exporter": "python",
   "pygments_lexer": "ipython3",
   "version": "3.6.3"
  }
 },
 "nbformat": 4,
 "nbformat_minor": 1
}
